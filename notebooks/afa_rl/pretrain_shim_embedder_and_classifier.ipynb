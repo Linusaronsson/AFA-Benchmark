{
 "cells": [
  {
   "cell_type": "code",
   "execution_count": 1,
   "metadata": {},
   "outputs": [],
   "source": [
    "from afa_rl.datasets import CubeDataset, DataModuleFromDataset\n",
    "from afa_rl.models import ShimEmbedderClassifier, ReadProcessEncoder, ShimEmbedder\n",
    "\n",
    "from torch import nn\n",
    "from torchrl.modules import MLP\n",
    "import lightning as pl\n",
    "from lightning.pytorch.loggers import WandbLogger\n",
    "import torch"
   ]
  },
  {
   "cell_type": "code",
   "execution_count": 2,
   "metadata": {},
   "outputs": [],
   "source": [
    "torch.set_float32_matmul_precision(\"medium\")"
   ]
  },
  {
   "cell_type": "code",
   "execution_count": 3,
   "metadata": {},
   "outputs": [],
   "source": [
    "n_features = 20\n",
    "dataset = CubeDataset(n_features=n_features, data_points=100_000, sigma=0.01, seed=42)\n",
    "datamodule = DataModuleFromDataset(dataset=dataset, batch_size=128, train_ratio=0.8)"
   ]
  },
  {
   "cell_type": "code",
   "execution_count": 4,
   "metadata": {},
   "outputs": [
    {
     "data": {
      "text/plain": [
       "(tensor([ 0.1313,  0.9204,  0.4699,  0.2398, -0.0065,  0.0108,  0.9922,  0.6261,\n",
       "          0.3093,  0.5771,  0.6224,  0.6519,  0.3125,  0.3840,  0.4065,  0.3761,\n",
       "          0.8397,  0.8010,  0.8765,  0.9403]),\n",
       " tensor([0., 0., 0., 0., 1., 0., 0., 0.]))"
      ]
     },
     "execution_count": 4,
     "metadata": {},
     "output_type": "execute_result"
    }
   ],
   "source": [
    "# Check what the dataset looks like\n",
    "dataset[1]"
   ]
  },
  {
   "cell_type": "code",
   "execution_count": 5,
   "metadata": {},
   "outputs": [],
   "source": [
    "from afa_rl.models import MLPClassifier\n",
    "\n",
    "\n",
    "encoder = ReadProcessEncoder(\n",
    "    feature_size=n_features + 1,  # state contains one value and one index\n",
    "    output_size=16,\n",
    "    reading_block_cells=[32, 32],\n",
    "    writing_block_cells=[32, 32],\n",
    "    memory_size=16,\n",
    "    processing_steps=5,\n",
    ")\n",
    "embedder = ShimEmbedder(encoder)\n",
    "classifier = MLPClassifier(16, 8, [32, 32])\n",
    "model = ShimEmbedderClassifier(embedder=embedder, classifier=classifier, lr=1e-4)"
   ]
  },
  {
   "cell_type": "code",
   "execution_count": 6,
   "metadata": {},
   "outputs": [
    {
     "name": "stderr",
     "output_type": "stream",
     "text": [
      "You are using the plain ModelCheckpoint callback. Consider using LitModelCheckpoint which with seamless uploading to Model registry.\n",
      "GPU available: True (cuda), used: True\n",
      "TPU available: False, using: 0 TPU cores\n",
      "HPU available: False, using: 0 HPUs\n",
      "\u001b[34m\u001b[1mwandb\u001b[0m: Using wandb-core as the SDK backend.  Please refer to https://wandb.me/wandb-core for more information.\n",
      "\u001b[34m\u001b[1mwandb\u001b[0m: Currently logged in as: \u001b[33mvalterschutz\u001b[0m (\u001b[33mvalterschutz-chalmers-university-of-technology\u001b[0m) to \u001b[32mhttps://api.wandb.ai\u001b[0m. Use \u001b[1m`wandb login --relogin`\u001b[0m to force relogin\n"
     ]
    },
    {
     "data": {
      "text/html": [
       "Tracking run with wandb version 0.19.8"
      ],
      "text/plain": [
       "<IPython.core.display.HTML object>"
      ]
     },
     "metadata": {},
     "output_type": "display_data"
    },
    {
     "data": {
      "text/html": [
       "Run data is saved locally in <code>logs/wandb/run-20250325_144844-r8rkysyo</code>"
      ],
      "text/plain": [
       "<IPython.core.display.HTML object>"
      ]
     },
     "metadata": {},
     "output_type": "display_data"
    },
    {
     "data": {
      "text/html": [
       "Syncing run <strong><a href='https://wandb.ai/valterschutz-chalmers-university-of-technology/pretrain-shim-embedder-classifier/runs/r8rkysyo' target=\"_blank\">floral-rain-2</a></strong> to <a href='https://wandb.ai/valterschutz-chalmers-university-of-technology/pretrain-shim-embedder-classifier' target=\"_blank\">Weights & Biases</a> (<a href='https://wandb.me/developer-guide' target=\"_blank\">docs</a>)<br>"
      ],
      "text/plain": [
       "<IPython.core.display.HTML object>"
      ]
     },
     "metadata": {},
     "output_type": "display_data"
    },
    {
     "data": {
      "text/html": [
       " View project at <a href='https://wandb.ai/valterschutz-chalmers-university-of-technology/pretrain-shim-embedder-classifier' target=\"_blank\">https://wandb.ai/valterschutz-chalmers-university-of-technology/pretrain-shim-embedder-classifier</a>"
      ],
      "text/plain": [
       "<IPython.core.display.HTML object>"
      ]
     },
     "metadata": {},
     "output_type": "display_data"
    },
    {
     "data": {
      "text/html": [
       " View run at <a href='https://wandb.ai/valterschutz-chalmers-university-of-technology/pretrain-shim-embedder-classifier/runs/r8rkysyo' target=\"_blank\">https://wandb.ai/valterschutz-chalmers-university-of-technology/pretrain-shim-embedder-classifier/runs/r8rkysyo</a>"
      ],
      "text/plain": [
       "<IPython.core.display.HTML object>"
      ]
     },
     "metadata": {},
     "output_type": "display_data"
    },
    {
     "name": "stderr",
     "output_type": "stream",
     "text": [
      "LOCAL_RANK: 0 - CUDA_VISIBLE_DEVICES: [0]\n",
      "\n",
      "  | Name       | Type          | Params | Mode \n",
      "-----------------------------------------------------\n",
      "0 | embedder   | ShimEmbedder  | 8.8 K  | train\n",
      "1 | classifier | MLPClassifier | 1.9 K  | train\n",
      "-----------------------------------------------------\n",
      "10.7 K    Trainable params\n",
      "0         Non-trainable params\n",
      "10.7 K    Total params\n",
      "0.043     Total estimated model params size (MB)\n",
      "24        Modules in train mode\n",
      "0         Modules in eval mode\n"
     ]
    },
    {
     "name": "stdout",
     "output_type": "stream",
     "text": [
      "Sanity Checking: |          | 0/? [00:00<?, ?it/s]"
     ]
    },
    {
     "name": "stderr",
     "output_type": "stream",
     "text": [
      "/home/valter/Documents/Projects/afa-rl/.venv/lib/python3.13/site-packages/lightning/pytorch/trainer/connectors/data_connector.py:425: The 'val_dataloader' does not have many workers which may be a bottleneck. Consider increasing the value of the `num_workers` argument` to `num_workers=21` in the `DataLoader` to improve performance.\n"
     ]
    },
    {
     "name": "stdout",
     "output_type": "stream",
     "text": [
      "                                                                           "
     ]
    },
    {
     "name": "stderr",
     "output_type": "stream",
     "text": [
      "/home/valter/Documents/Projects/afa-rl/.venv/lib/python3.13/site-packages/lightning/pytorch/trainer/connectors/data_connector.py:425: The 'train_dataloader' does not have many workers which may be a bottleneck. Consider increasing the value of the `num_workers` argument` to `num_workers=21` in the `DataLoader` to improve performance.\n"
     ]
    },
    {
     "name": "stdout",
     "output_type": "stream",
     "text": [
      "Epoch 0: 100%|██████████| 625/625 [00:12<00:00, 51.41it/s, v_num=ysyo]"
     ]
    },
    {
     "name": "stderr",
     "output_type": "stream",
     "text": [
      "`Trainer.fit` stopped: `max_epochs=1` reached.\n"
     ]
    },
    {
     "name": "stdout",
     "output_type": "stream",
     "text": [
      "Epoch 0: 100%|██████████| 625/625 [00:12<00:00, 51.35it/s, v_num=ysyo]\n"
     ]
    }
   ],
   "source": [
    "logger = WandbLogger(project=\"pretrain-shim-embedder-classifier\", save_dir=\"logs\")\n",
    "trainer = pl.Trainer(\n",
    "    max_epochs=1,\n",
    "    logger=logger,\n",
    "    accelerator=\"cuda\" if torch.cuda.is_available() else \"cpu\",\n",
    ")\n",
    "trainer.fit(model, datamodule)"
   ]
  },
  {
   "cell_type": "code",
   "execution_count": 7,
   "metadata": {},
   "outputs": [
    {
     "name": "stdout",
     "output_type": "stream",
     "text": [
      "tensor([2, 4, 0, 1, 4, 6, 5, 6, 7, 7])\n",
      "tensor([0, 0, 0, 0, 6, 7, 7, 7, 7, 7])\n"
     ]
    }
   ],
   "source": [
    "# Do some predictions\n",
    "test_dataset = CubeDataset(n_features=n_features, data_points=10, sigma=0.01, seed=42)\n",
    "X_test, y_test = test_dataset[:]\n",
    "_, y_pred = model(X_test, torch.ones_like(X_test, dtype=torch.bool))\n",
    "print(y_test.argmax(dim=1))\n",
    "print(y_pred.argmax(dim=1))"
   ]
  },
  {
   "cell_type": "code",
   "execution_count": null,
   "metadata": {},
   "outputs": [],
   "source": []
  }
 ],
 "metadata": {
  "kernelspec": {
   "display_name": ".venv",
   "language": "python",
   "name": "python3"
  },
  "language_info": {
   "codemirror_mode": {
    "name": "ipython",
    "version": 3
   },
   "file_extension": ".py",
   "mimetype": "text/x-python",
   "name": "python",
   "nbconvert_exporter": "python",
   "pygments_lexer": "ipython3",
   "version": "3.13.0"
  }
 },
 "nbformat": 4,
 "nbformat_minor": 2
}
