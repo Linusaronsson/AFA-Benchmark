{
 "cells": [
  {
   "cell_type": "code",
   "execution_count": null,
   "metadata": {},
   "outputs": [],
   "source": [
    "# from afa_rl.datasets import CubeDataset, DataModuleFromDataset\n",
    "# import torch\n",
    "# from torch import nn\n",
    "# from torchrl.envs import check_env_specs"
   ]
  },
  {
   "cell_type": "code",
   "execution_count": null,
   "metadata": {},
   "outputs": [],
   "source": [
    "# data_fn = get_dummy_data_fn()\n"
   ]
  },
  {
   "cell_type": "code",
   "execution_count": null,
   "metadata": {},
   "outputs": [],
   "source": [
    "# data_fn(torch.Size((3,))).feature"
   ]
  },
  {
   "cell_type": "code",
   "execution_count": null,
   "metadata": {},
   "outputs": [],
   "source": [
    "# n_features = 5\n",
    "# model = nn.Linear(2 * n_features, 4)"
   ]
  },
  {
   "cell_type": "code",
   "execution_count": null,
   "metadata": {},
   "outputs": [],
   "source": [
    "# env = AFAMDP(\n",
    "#     dataset_fn=data_fn,\n",
    "#     model=model,\n",
    "#     loss_fn=nn.CrossEntropyLoss(reduction=\"none\"),\n",
    "#     acquisition_costs=torch.ones(n_features),\n",
    "#     device=torch.device(\"cpu\"),\n",
    "#     batch_size=torch.Size((5,)),\n",
    "# )"
   ]
  },
  {
   "cell_type": "code",
   "execution_count": null,
   "metadata": {},
   "outputs": [],
   "source": [
    "# check_env_specs(env)"
   ]
  },
  {
   "cell_type": "code",
   "execution_count": null,
   "metadata": {},
   "outputs": [],
   "source": [
    "# td = env.reset()\n",
    "\n",
    "# for i in range(5):\n",
    "#     td = env.rand_action(td)\n",
    "#     _, td = env.step_and_maybe_reset(td)\n",
    "#     # print(f\"{td[\"action\"]=}\")\n",
    "#     # print(f\"{td[\"feature_values\"]=}\")\n",
    "#     print(f\"{td[\"all_features\"]=}\")"
   ]
  },
  {
   "cell_type": "code",
   "execution_count": null,
   "metadata": {},
   "outputs": [],
   "source": [
    "# td = env.rand_step(td)"
   ]
  }
 ],
 "metadata": {
  "kernelspec": {
   "display_name": ".venv",
   "language": "python",
   "name": "python3"
  },
  "language_info": {
   "codemirror_mode": {
    "name": "ipython",
    "version": 3
   },
   "file_extension": ".py",
   "mimetype": "text/x-python",
   "name": "python",
   "nbconvert_exporter": "python",
   "pygments_lexer": "ipython3",
   "version": "3.13.2"
  }
 },
 "nbformat": 4,
 "nbformat_minor": 2
}
