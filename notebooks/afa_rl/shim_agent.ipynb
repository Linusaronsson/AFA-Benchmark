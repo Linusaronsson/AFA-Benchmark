{
 "cells": [
  {
   "cell_type": "code",
   "execution_count": 12,
   "metadata": {},
   "outputs": [],
   "source": [
    "from afa_rl.models import ShimEmbedderClassifier, ShimEmbedder\n",
    "from afa_rl.afa_env import AFAMDP\n",
    "from afa_rl.models import ReadProcessEncoder, MLPClassifier\n",
    "from afa_rl.agents import ShimQAgent\n",
    "from afa_rl.datasets import CubeDataset, get_dataset_fn\n",
    "import torch\n",
    "from torchrl.collectors import SyncDataCollector\n",
    "from tqdm import tqdm"
   ]
  },
  {
   "cell_type": "code",
   "execution_count": null,
   "metadata": {},
   "outputs": [],
   "source": [
    "# Load a pretrained embedder and classifier\n",
    "from torch import nn\n",
    "\n",
    "checkpoint = torch.load(\n",
    "    \"../checkpoints/shim_embedder_classifier.ckpt\", weights_only=True\n",
    ")\n",
    "\n",
    "n_features = 20\n",
    "\n",
    "embedder_and_classifier = ShimEmbedderClassifier(\n",
    "    embedder=ShimEmbedder(\n",
    "        encoder=ReadProcessEncoder(\n",
    "            feature_size=n_features + 1,  # state contains one value and one index\n",
    "            output_size=16,\n",
    "            reading_block_cells=[32, 32],\n",
    "            writing_block_cells=[32, 32],\n",
    "            memory_size=16,\n",
    "            processing_steps=5,\n",
    "        ),\n",
    "    ),\n",
    "    classifier=MLPClassifier(16, 8, [32, 32]),\n",
    "    lr=1e-4,\n",
    ")\n",
    "embedder_and_classifier.load_state_dict(checkpoint[\"state_dict\"])\n",
    "device = torch.device(\"cuda\")\n",
    "embedder_and_classifier = embedder_and_classifier.to(device)"
   ]
  },
  {
   "cell_type": "code",
   "execution_count": 3,
   "metadata": {},
   "outputs": [],
   "source": [
    "# Prepare cube dataset for the format that AFAMDP expects\n",
    "dataset = CubeDataset(n_features=n_features, data_points=100_000, sigma=0.01, seed=42)\n",
    "dataset_fn = get_dataset_fn(dataset.features, dataset.labels)"
   ]
  },
  {
   "cell_type": "code",
   "execution_count": 4,
   "metadata": {},
   "outputs": [],
   "source": [
    "# device = torch.device(\"cuda\" if torch.cuda.is_available() else \"cpu\")\n",
    "env = AFAMDP(\n",
    "    dataset_fn=dataset_fn,\n",
    "    embedder=embedder_and_classifier.embedder,\n",
    "    task_model=embedder_and_classifier.classifier,\n",
    "    loss_fn=nn.CrossEntropyLoss(reduction=\"none\"),\n",
    "    acquisition_costs=torch.ones((n_features,), dtype=torch.float32, device=device)\n",
    "    / n_features,\n",
    "    device=device,\n",
    "    batch_size=torch.Size((4,)),\n",
    ")"
   ]
  },
  {
   "cell_type": "code",
   "execution_count": 5,
   "metadata": {},
   "outputs": [],
   "source": [
    "td = env.reset()\n",
    "# print(td)\n",
    "td = env.rand_step(td)\n",
    "# print(td)\n",
    "# td = env.rollout(10)\n",
    "# print(td)"
   ]
  },
  {
   "cell_type": "code",
   "execution_count": 6,
   "metadata": {},
   "outputs": [],
   "source": [
    "agent = ShimQAgent(\n",
    "    embedding_size=16,\n",
    "    action_spec=env.action_spec,\n",
    "    lr=1e-3,\n",
    "    update_tau=1e-3,\n",
    "    eps=0.1,\n",
    "    device=device,\n",
    ")"
   ]
  },
  {
   "cell_type": "code",
   "execution_count": 7,
   "metadata": {},
   "outputs": [
    {
     "name": "stdout",
     "output_type": "stream",
     "text": [
      "TensorDict(\n",
      "    fields={\n",
      "        action: Tensor(shape=torch.Size([4]), device=cuda:0, dtype=torch.int64, is_shared=True),\n",
      "        action_value: Tensor(shape=torch.Size([4, 21]), device=cuda:0, dtype=torch.float32, is_shared=True),\n",
      "        all_features: Tensor(shape=torch.Size([4, 20]), device=cuda:0, dtype=torch.float32, is_shared=True),\n",
      "        chosen_action_value: Tensor(shape=torch.Size([4, 1]), device=cuda:0, dtype=torch.float32, is_shared=True),\n",
      "        done: Tensor(shape=torch.Size([4, 1]), device=cuda:0, dtype=torch.bool, is_shared=True),\n",
      "        embedding: Tensor(shape=torch.Size([4, 16]), device=cuda:0, dtype=torch.float32, is_shared=True),\n",
      "        fa_reward: Tensor(shape=torch.Size([4, 1]), device=cuda:0, dtype=torch.float32, is_shared=True),\n",
      "        feature_indices: Tensor(shape=torch.Size([4, 20]), device=cuda:0, dtype=torch.bool, is_shared=True),\n",
      "        feature_values: Tensor(shape=torch.Size([4, 20]), device=cuda:0, dtype=torch.float32, is_shared=True),\n",
      "        label: Tensor(shape=torch.Size([4, 8]), device=cuda:0, dtype=torch.float32, is_shared=True),\n",
      "        model_reward: Tensor(shape=torch.Size([4, 1]), device=cuda:0, dtype=torch.float32, is_shared=True),\n",
      "        next: TensorDict(\n",
      "            fields={\n",
      "                all_features: Tensor(shape=torch.Size([4, 20]), device=cuda:0, dtype=torch.float32, is_shared=True),\n",
      "                done: Tensor(shape=torch.Size([4, 1]), device=cuda:0, dtype=torch.bool, is_shared=True),\n",
      "                embedding: Tensor(shape=torch.Size([4, 16]), device=cuda:0, dtype=torch.float32, is_shared=True),\n",
      "                fa_reward: Tensor(shape=torch.Size([4, 1]), device=cuda:0, dtype=torch.float32, is_shared=True),\n",
      "                feature_indices: Tensor(shape=torch.Size([4, 20]), device=cuda:0, dtype=torch.bool, is_shared=True),\n",
      "                feature_values: Tensor(shape=torch.Size([4, 20]), device=cuda:0, dtype=torch.float32, is_shared=True),\n",
      "                label: Tensor(shape=torch.Size([4, 8]), device=cuda:0, dtype=torch.float32, is_shared=True),\n",
      "                model_reward: Tensor(shape=torch.Size([4, 1]), device=cuda:0, dtype=torch.float32, is_shared=True),\n",
      "                reward: Tensor(shape=torch.Size([4, 1]), device=cuda:0, dtype=torch.float32, is_shared=True),\n",
      "                terminated: Tensor(shape=torch.Size([4, 1]), device=cuda:0, dtype=torch.bool, is_shared=True)},\n",
      "            batch_size=torch.Size([4]),\n",
      "            device=None,\n",
      "            is_shared=False),\n",
      "        terminated: Tensor(shape=torch.Size([4, 1]), device=cuda:0, dtype=torch.bool, is_shared=True)},\n",
      "    batch_size=torch.Size([4]),\n",
      "    device=None,\n",
      "    is_shared=False)\n"
     ]
    }
   ],
   "source": [
    "td = env.reset()\n",
    "td = agent.policy(td)\n",
    "td = env.step(td)\n",
    "print(td)"
   ]
  },
  {
   "cell_type": "code",
   "execution_count": 8,
   "metadata": {},
   "outputs": [
    {
     "name": "stderr",
     "output_type": "stream",
     "text": [
      "/home/valter/Documents/Projects/afa-rl/.venv/lib/python3.13/site-packages/torchrl/collectors/collectors.py:209: UserWarning: A policy device was provided but no parameter/buffer could be found in the policy. Casting to policy_device is therefore impossible. The collector will trust that the devices match. To suppress this warning, set `trust_policy=True` when building the collector.\n",
      "  warnings.warn(\n",
      "/home/valter/Documents/Projects/afa-rl/.venv/lib/python3.13/site-packages/torchrl/collectors/collectors.py:756: UserWarning: frames_per_batch (2) is not exactly divisible by the number of batched environments (4),  this results in more frames_per_batch per iteration that requested (4). To silence this message, set the environment variable RL_WARNINGS to False.\n",
      "  warnings.warn(\n"
     ]
    }
   ],
   "source": [
    "collector = SyncDataCollector(\n",
    "    env, agent.policy, frames_per_batch=2, total_frames=1_000, device=device\n",
    ")"
   ]
  },
  {
   "cell_type": "code",
   "execution_count": 13,
   "metadata": {},
   "outputs": [
    {
     "name": "stderr",
     "output_type": "stream",
     "text": [
      "  0%|          | 0/250 [00:00<?, ?it/s]\n"
     ]
    }
   ],
   "source": [
    "for batch in tqdm(collector):\n",
    "    agent.optim.zero_grad()\n",
    "\n",
    "    loss = agent.loss_module(batch)\n",
    "    loss[\"loss\"].backward()\n",
    "\n",
    "    # Clip gradients?\n",
    "\n",
    "    agent.optim.step()\n",
    "\n",
    "    # Update target network\n",
    "    agent.updater.step()"
   ]
  },
  {
   "cell_type": "code",
   "execution_count": null,
   "metadata": {},
   "outputs": [],
   "source": []
  }
 ],
 "metadata": {
  "kernelspec": {
   "display_name": ".venv",
   "language": "python",
   "name": "python3"
  },
  "language_info": {
   "codemirror_mode": {
    "name": "ipython",
    "version": 3
   },
   "file_extension": ".py",
   "mimetype": "text/x-python",
   "name": "python",
   "nbconvert_exporter": "python",
   "pygments_lexer": "ipython3",
   "version": "3.13.0"
  }
 },
 "nbformat": 4,
 "nbformat_minor": 2
}
